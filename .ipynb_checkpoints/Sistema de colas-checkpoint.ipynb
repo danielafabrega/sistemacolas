{
 "cells": [
  {
   "cell_type": "markdown",
   "metadata": {},
   "source": [
    "**1) ¿Por qué el sistema colas M/M/1/K se puede modelar como un proceso de nacimiento y muerte? ¿Cuál es la expresión de las tasas de nacimiento y muerte en este caso?**\n",
    "\n",
    "Se puede modelar como un proceso de nacimiento y muerte ya que las transiciones de estado serán solo de 2 tipos, cuando entra un cliente al sistema (nacimiento) y cuando sale (muerte). Estos n clientes se irán atendiendo de uno en uno en un único servidor.\n",
    "\n",
    "##### Expresión de las tasas de nacimiento y muerte\n",
    "\n",
    "La tasa de nacimiento y muerte dependerán del número de clientes en el sistema\n",
    "\n",
    "\n",
    "\n",
    "$$ \t\\lambda_n = \\left \\{\n",
    "\\begin{array}{l l}\n",
    "\\lambda & \\mbox{si }n\\mbox{ = 0, 1, 2,..., K-1} \\\\\n",
    "0 & \\mbox{si }n\\ge\\mbox{ K}\n",
    "\\end{array}\n",
    "\\right. $$\n",
    "\n",
    "$$ \t\\mu_n = \\left \\{\n",
    "\\begin{array}{l l}\n",
    "\\mu & \\mbox{si }n\\mbox{ = 0, 1, 2,..., K} \\\\\n",
    "0 & \\mbox{si }n >\\mbox{ K}\n",
    "\\end{array}\n",
    "\\right. $$\n",
    "\n"
   ]
  },
  {
   "cell_type": "markdown",
   "metadata": {},
   "source": [
    "#### Diagrama de transición\n",
    "\n",
    "![Caption for the picture.](diagrama.png)"
   ]
  },
  {
   "cell_type": "markdown",
   "metadata": {},
   "source": [
    "\n",
    "\n",
    "**2) Deduzca una expresión para las probabilidades en equilibrio en este caso.**\n",
    "##### Sistema de ecuación de equilibrio\n",
    "\n",
    "| Estado | Tasa de entrada =  Tasa de salida |\n",
    "| -- | -- | \n",
    "| $$0$$ | $$\\mu\\pi_1 = \\lambda\\pi_0$$ | \n",
    "| $$1\\le n \\le K-1$$ | $$\\lambda\\pi_{n-1}\\mu\\pi_{n+1} = (\\lambda + \\mu)\\pi_0$$ | \n",
    "| $$K$$| $$\\lambda\\pi_{K-1} = \\mu\\pi_K$$| \n"
   ]
  },
  {
   "cell_type": "markdown",
   "metadata": {},
   "source": [
    "##### Resolviendo el sistema: \n",
    "\n",
    "$$\\lambda\\pi_0 = \\mu\\pi_1 \\Rightarrow \\pi_1 =  \\frac{\\lambda}{\\mu} \\pi_0$$\n",
    "$$\\lambda\\pi_0 + \\mu\\pi_2 = (\\mu+\\lambda)\\pi_1 \\Rightarrow \\pi_2 =  (\\frac{\\lambda}{\\mu})^{2} \\pi_0$$\n",
    "$$...$$\n",
    "$$\\lambda\\pi_{K-1} = \\mu\\pi_K \\Rightarrow \\pi_K =  (\\frac{\\lambda}{\\mu})^{K} \\pi_0$$"
   ]
  },
  {
   "cell_type": "markdown",
   "metadata": {},
   "source": [
    "Por lo tanto:\n",
    "\n",
    "$$\\displaystyle\\sum_{n=0}^K \\pi_n = 1 $$\n",
    "\n",
    "Entonces: \n",
    "\n",
    "$$1 = \\pi_0\\displaystyle\\sum_{n=0}^K (\\frac{\\lambda}{\\mu})^{n}  = \\pi_0\\frac{1-(\\frac{\\lambda}{\\mu})^{K+1}}{1 - \\frac{\\lambda}{\\mu}} $$\n",
    "\n",
    "Si $\\lambda \\ne \\mu$,\n",
    "\n",
    "$$\\pi_n = (\\frac{\\lambda}{\\mu})^{K}\\pi_0,\\;\\;\\;\\;\\;\\;\\;\\;\\;\\;n = 1, 2, 3,..., K $$\n",
    "\n",
    "Reemplazamos $\\pi_0$:\n",
    "\n",
    "$$\\pi_n = (\\frac{\\lambda}{\\mu})^{n}\\pi_0\\frac{1-(\\frac{\\lambda}{\\mu})^{K+1}}{1 - \\frac{\\lambda}{\\mu}}$$\n",
    "\n",
    "\n"
   ]
  },
  {
   "cell_type": "code",
   "execution_count": null,
   "metadata": {},
   "outputs": [],
   "source": []
  }
 ],
 "metadata": {
  "kernelspec": {
   "display_name": "R",
   "language": "R",
   "name": "ir"
  },
  "language_info": {
   "codemirror_mode": "r",
   "file_extension": ".r",
   "mimetype": "text/x-r-source",
   "name": "R",
   "pygments_lexer": "r",
   "version": "3.6.1"
  }
 },
 "nbformat": 4,
 "nbformat_minor": 4
}
