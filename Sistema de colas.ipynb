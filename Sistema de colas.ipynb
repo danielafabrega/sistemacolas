{
 "cells": [
  {
   "cell_type": "markdown",
   "metadata": {},
   "source": [
    "<h1><center>Colas poissonianas con capacidad limitada</center></h1>\n",
    "<h2><center>M/M/1/K</center></h2>\n",
    "\n",
    "Daniela Fabrega \n",
    "\n",
    "Felipe Saldias"
   ]
  },
  {
   "cell_type": "markdown",
   "metadata": {},
   "source": [
    "**1) ¿Por qué el sistema colas M/M/1/K se puede modelar como un proceso de nacimiento y muerte? ¿Cuál es la expresión de las tasas de nacimiento y muerte en este caso?**\n",
    "\n",
    "Se puede modelar como un proceso de nacimiento y muerte ya que las transiciones de estado serán solo de 2 tipos, cuando entra un cliente al sistema (nacimiento) y cuando sale (muerte). Estos n clientes se irán atendiendo de uno en uno en un único servidor.\n",
    "\n",
    "##### Expresión de las tasas de nacimiento y muerte\n",
    "\n",
    "La tasa de nacimiento y muerte dependerán del número de clientes en el sistema\n",
    "\n",
    "\n",
    "\n",
    "$$ \t\\lambda_n = \\left \\{\n",
    "\\begin{array}{l l}\n",
    "\\lambda & \\mbox{si }n\\mbox{ = 0, 1, 2,..., K-1} \\\\\n",
    "0 & \\mbox{si }n\\ge\\mbox{ K}\n",
    "\\end{array}\n",
    "\\right. $$\n",
    "\n",
    "$$ \t\\mu_n = \\left \\{\n",
    "\\begin{array}{l l}\n",
    "\\mu & \\mbox{si }n\\mbox{ = 0, 1, 2,..., K} \\\\\n",
    "0 & \\mbox{si }n >\\mbox{ K}\n",
    "\\end{array}\n",
    "\\right. $$\n",
    "\n"
   ]
  },
  {
   "cell_type": "markdown",
   "metadata": {},
   "source": [
    "#### Diagrama de transición\n",
    "\n",
    "![Caption for the picture.](diagrama.png)"
   ]
  },
  {
   "cell_type": "markdown",
   "metadata": {},
   "source": [
    "\n",
    "\n",
    "**2) Deduzca una expresión para las probabilidades en equilibrio en este caso.**\n",
    "##### Sistema de ecuación de equilibrio\n",
    "\n",
    "| Estado | Tasa de entrada =  Tasa de salida |\n",
    "| -- | -- | \n",
    "| $$0$$ | $$\\mu\\pi_1 = \\lambda\\pi_0$$ | \n",
    "| $$1\\le n \\le K-1$$ | $$\\lambda\\pi_{n-1}\\mu\\pi_{n+1} = (\\lambda + \\mu)\\pi_0$$ | \n",
    "| $$K$$| $$\\lambda\\pi_{K-1} = \\mu\\pi_K$$| \n"
   ]
  },
  {
   "cell_type": "markdown",
   "metadata": {},
   "source": [
    "##### Resolviendo el sistema: \n",
    "\n",
    "$$\\lambda\\pi_0 = \\mu\\pi_1 \\Rightarrow \\pi_1 =  \\frac{\\lambda}{\\mu} \\pi_0$$\n",
    "$$\\lambda\\pi_0 + \\mu\\pi_2 = (\\mu+\\lambda)\\pi_1 \\Rightarrow \\pi_2 =  (\\frac{\\lambda}{\\mu})^{2} \\pi_0$$\n",
    "$$...$$\n",
    "$$\\lambda\\pi_{K-1} = \\mu\\pi_K \\Rightarrow \\pi_K =  (\\frac{\\lambda}{\\mu})^{K} \\pi_0$$"
   ]
  },
  {
   "cell_type": "markdown",
   "metadata": {},
   "source": [
    "Por lo tanto:\n",
    "\n",
    "$$\\displaystyle\\sum_{n=0}^K \\pi_n = 1  \\;\\;\\;\\;\\;\\;\\;\\;\\;\\;\\;\\; \\textit{(1)} $$ \n",
    "\n",
    "\n",
    "Entonces: \n",
    "\n",
    "$$1 = \\pi_0\\displaystyle\\sum_{n=0}^K (\\frac{\\lambda}{\\mu})^{n}  = \\pi_0\\frac{1-(\\frac{\\lambda}{\\mu})^{K+1}}{1 - \\frac{\\lambda}{\\mu}} \\;\\;\\;\\;\\;\\;\\;\\;\\;\\;\\;\\; \\textit{(2)}$$ \n",
    "\n",
    "Si $\\lambda \\ne \\mu$,\n",
    "\n",
    "$$\\pi_n = (\\frac{\\lambda}{\\mu})^{n}\\pi_0,\\;\\;\\;\\;\\;\\;\\;\\;\\;\\;n = 1, 2, 3,..., K \\;\\;\\;\\;\\;\\;\\;\\;\\;\\;\\;\\; \\textit{(3)}$$\n",
    "\n",
    "Reemplazamos $\\pi_0$:\n",
    "\n",
    "$$\\pi_n = (\\frac{\\lambda}{\\mu})^{n}\\frac{1-\\frac{\\lambda}{\\mu}}{1 - (\\frac{\\lambda}{\\mu})^{K-1}},\\;\\;\\;\\;\\;\\;\\;\\;\\;\\;n = 1, 2, 3,..., K \\;\\;\\;\\;\\;\\;\\;\\;\\;\\;\\;\\; \\textit{(4)}$$\n",
    "\n",
    "Si $\\lambda = \\mu$, entonces la distribución de clientes en el sistema es uniforme, y queda: \n",
    "\n",
    "$$\\pi_n = \\frac{1}{K+1} \\;\\;\\;\\;\\;\\;\\;\\;\\;\\;n = 1, 2, 3,..., K \\;\\;\\;\\;\\;\\;\\;\\;\\;\\;\\;\\; \\textit{(5)} $$\n",
    "\n",
    "\n"
   ]
  },
  {
   "cell_type": "markdown",
   "metadata": {},
   "source": [
    "### Cantidad de clientes en el sistema"
   ]
  },
  {
   "cell_type": "markdown",
   "metadata": {},
   "source": [
    "Con estas ecuaciones base planteadas podemos avanzar en el entendimiento de este sistemas de cola, por ejemplo la cantidad de \"clientes\" en el sistema puede ser calculada por: "
   ]
  },
  {
   "cell_type": "markdown",
   "metadata": {},
   "source": [
    "\n",
    "\n",
    "$$L = E(N)= \\sum_{n=0}^K n\\pi_n  \\;\\;\\;\\;\\;\\;\\;\\;\\;\\;\\;\\;\\;\\;\\;\\;\\;\\;\\;\\;\\;\\;\\;\\; \\textit{(6)}$$"
   ]
  },
  {
   "cell_type": "markdown",
   "metadata": {},
   "source": [
    "en donde para el caso $\\lambda = \\mu $ en donde $\\pi_n$ se reemplaza por (5) obteniendo: \n",
    "\n",
    "$$ \\frac{1}{K+1}\\sum_{n=0}^K n = \\frac{K(K+1)}{2(K+1)} = \\frac{K}{2} \\;\\;\\;\\;\\;\\;\\;\\;\\;\\;\\;\\; \\textit{(7)}$$"
   ]
  },
  {
   "cell_type": "markdown",
   "metadata": {},
   "source": [
    "pero si $\\lambda \\ne \\mu$ ya no es posible reemplazar por ***(5)*** y debemos utilizar ***(3)***"
   ]
  },
  {
   "cell_type": "markdown",
   "metadata": {},
   "source": [
    "obteniendo algo como: \n",
    " $$  \\sum_{n=0}^K n (\\frac{\\lambda}{\\mu})^{n}\\pi_0 \\; \\;\\;\\;\\;\\;\\;\\;\\;\\;\\;\\;\\; \\textit{(8)}$$"
   ]
  },
  {
   "cell_type": "markdown",
   "metadata": {},
   "source": [
    "y si realizamos la siguiente sustitución:\n",
    "$$(\\frac{\\lambda}{\\mu}) = U \\;\\;\\;\\;\\;\\;\\;\\;\\;\\;\\;\\; \\textit{(9)}$$"
   ]
  },
  {
   "cell_type": "markdown",
   "metadata": {},
   "source": [
    "podemos trabajar sobre algo mucho mas amigable de resolver:"
   ]
  },
  {
   "cell_type": "markdown",
   "metadata": {},
   "source": [
    "$$ \\sum_{n=0}^K n U^{n}\\pi_0  = \\pi_0\\sum_{n=0}^K n U^{n} = [\\frac{U(KU^{K+1}-(K+1)U^K+1)}{(U+1)^2}]\\pi_0 ;\\;\\;\\;\\;\\;\\;\\;\\;\\;\\;\\; \\textit{(10)}$$"
   ]
  },
  {
   "cell_type": "markdown",
   "metadata": {},
   "source": [
    "Sabemos el valor de $\\pi_0$ así que reemplazamos:\n",
    "\n",
    "$$[\\frac{U(KU^{K+1}-(K+1)U^K+1)}{(U+1)^2}][\\frac{1-U}{1-U^{K+1}}] ;\\;\\;\\;\\;\\;\\;\\;\\;\\;\\;\\; \\textit{(11)}$$\n",
    "\n",
    "Multiplicando los y reduciendo términos llegamos a: \n",
    "\n",
    "$$\\frac{U(KU^{K+1}-(K+1)U^K+1)}{(1-U)(1-U^{K+1})} ;\\;\\;\\;\\;\\;\\;\\;\\;\\;\\;\\; \\textit{(12)}$$\n",
    "\n",
    "\n",
    "Y finalmente reemplazando los valores originales mediante (9), obtenemos:\n",
    "\n",
    "$$ L =\\frac{\\lambda(K(\\frac{\\lambda}{\\mu})^{K+1}-(K+1)(\\frac{\\lambda}{\\mu})^K+1)}{(\\mu - \\lambda)(1-(\\frac{\\lambda}{\\mu})^{K+1})} ;\\;\\;\\;\\;\\;\\;\\;\\;\\;\\;\\; \\textit{(13)}$$\n",
    "\n",
    "con la posibilidad se reescrita como: \n",
    "\n",
    "$$ L= \\frac{U}{1-U}-\\frac{(K+1)U^{K+1}}{1- U^{K+1}} ;\\;\\;\\;\\;\\;\\;\\;\\;\\;\\;\\; \\textit{(14)}$$"
   ]
  },
  {
   "cell_type": "markdown",
   "metadata": {},
   "source": [
    "### Cantidad de clientes en la cola"
   ]
  },
  {
   "cell_type": "markdown",
   "metadata": {},
   "source": [
    "con un numero medio de clientes siendo atendidos por el servidor de: \n",
    "\n",
    "$$ L_s = E(N_s) = E(N_s | N = 0)P(N=0) + E(N_s | N > 0)P(N>0) $$ \n",
    "\n",
    " $$=  0\\pi_0 + 1(1-\\pi_0) = 1 -\\pi_0  \\;\\;\\;\\;\\;\\;\\;\\;\\;\\;\\;\\; \\textit{(15)} $$"
   ]
  },
  {
   "cell_type": "markdown",
   "metadata": {},
   "source": [
    "Y aplicando esto a la formula general para obtener cantidad \n",
    "$$ L_q = L - L_s = L - (1 - \\pi_0)\\;\\;\\;\\;\\;\\;\\;\\;\\;\\;\\;\\; \\textit{(16)} $$"
   ]
  },
  {
   "cell_type": "markdown",
   "metadata": {},
   "source": [
    "### Tiempo de respuesta y tiempo medio en la cola"
   ]
  },
  {
   "cell_type": "markdown",
   "metadata": {},
   "source": [
    "Para el siguiente razonamiento debemos tener presente que el sistema rechazara a todo quien llegue cuando ya hay K personas en el sistema, por lo que la probabilidad de que una persona entre en el sistema es:\n",
    "\n",
    "$$ 1-\\pi_K \\;\\;\\;\\;\\;\\;\\;\\;\\;\\;\\;\\; \\textit{(17)}$$ \n",
    "\n",
    "que representa que la probabilidad de que un cliente entre en el sistema es 100% menos la probabilidad de que el sistema este lleno.\n",
    "con esto en cuenta es posible definir la tasa media de llegadas como: \n",
    "$$ \\lambda_e = \\lambda(1-\\pi_K) \\;\\;\\;\\;\\;\\;\\;\\;\\;\\;\\;\\; \\textit{(18)}$$ "
   ]
  },
  {
   "cell_type": "markdown",
   "metadata": {},
   "source": [
    "la utilizacion verdadera del servidor queda determinada en este caso por: \n",
    "$$ p = \\lambda_e W_e = \\frac{\\lambda}{\\mu}(1-\\pi_K) = 1 - \\pi_0 \\;\\;\\;\\;\\;\\;\\;\\;\\;\\;\\;\\; \\textit{(19)}$$ "
   ]
  },
  {
   "cell_type": "markdown",
   "metadata": {},
   "source": [
    "finalmente si nos basamos en las formulas de little es posible obtener una expresion para los tiempos medios en la cola de manera bien directa:\n",
    "$$ W_q = \\frac{L_q}{\\lambda_e} \\;\\;\\;\\;\\;\\;\\;\\;\\;\\;\\;\\; \\textit{(20)}$$"
   ]
  },
  {
   "cell_type": "code",
   "execution_count": null,
   "metadata": {},
   "outputs": [],
   "source": []
  },
  {
   "cell_type": "markdown",
   "metadata": {},
   "source": [
    "# Ejercicio práctico "
   ]
  },
  {
   "cell_type": "markdown",
   "metadata": {},
   "source": [
    "1. Ejercicio ilustrativo: Un servidor de internet tiene una velocidad promedio de transmisión de 1600 caracteres por segundo para atender las peticiones que le llegan, que lo hacen según un proceso de Poisson con una velocidad media de 300 peticiones por minuto. La longitud de cada petición puede aproximarse a una distribución exponencial de media 280 caracteres por petición.\n",
    "    1. Calcule las medidas de desempeño de este sistema suponiendo que tiene un buffer de tamaño 14.\n",
    "    1. Son suficientes 14 buffers para que el sistema esté disponible el 99% de la veces? Si no es el caso, cuántos buffers se requieren para lograr tal desempeño?"
   ]
  },
  {
   "cell_type": "markdown",
   "metadata": {},
   "source": [
    "En primer lugar es necesario trabajar en unidad unica por lo que la tasa de llegada será transformada a segundos obteniendo: \n",
    "\n",
    "$ \\lambda = 5$\n",
    "\n",
    "$ \\mu =\\frac {1600}{280} = 5.714$"
   ]
  },
  {
   "cell_type": "markdown",
   "metadata": {},
   "source": [
    "$$ p= 1-\\pi_0 = 1 -(\\frac{\\lambda}{\\mu})^0 \\frac{1-\\frac{\\lambda}{\\mu}}{1-(\\frac{\\lambda}{\\mu})^{K+1}} = 1 - \\frac{1-\\frac{5}{5.714}}{1-(\\frac{5}{5.714})^{16}} = 0.858 $$"
   ]
  },
  {
   "cell_type": "markdown",
   "metadata": {},
   "source": [
    "El numero medio de clientes o peticiones en el sistema esta dado por la utilizacion de (14) : \n",
    "\n",
    "$$ L= \\frac{U}{1-U}-\\frac{(K+1)U^{K+1}}{1- U^{K+1}} = \\frac{\\frac{5}{5.714}}{1-(\\frac{5}{5.714})}-\\frac{16(\\frac{5}{5.714})^{16}}{1-(\\frac{5}{5.714})^{16}} = 4.86 $$ \n"
   ]
  },
  {
   "cell_type": "markdown",
   "metadata": {},
   "source": [
    "El numero medio de peticiones en la cola se calcula facilmente mediante combinando (16) con (19)\n",
    "\n",
    "$$ L_q =L - p = 4.86 -0.858 = 4.002 $$ \n"
   ]
  },
  {
   "cell_type": "markdown",
   "metadata": {},
   "source": [
    "Si calculamos la probabilidad de que el sistema se encuentre lleno a partir de (4) obtenemos: \n",
    "\n",
    "$$ \\pi_k = \\pi_{15} = (\\frac{5}{5.714})^{15} \\frac{1-\\frac{5}{5.714}}{1-(\\frac{5}{5.714})^{16}} = 0.01917 $$ "
   ]
  },
  {
   "cell_type": "markdown",
   "metadata": {},
   "source": [
    "y con esto es posible ,mediante formulas de little, calcular tanto:\n",
    "\n",
    "tiempo en el sistema:\n",
    "\n",
    "$$ W = \\frac{L}{\\lambda_e}= \\frac{4.86}{5(1-0.1917)} = 0.991 $$ \n",
    "\n",
    "como el tiempo en la cola: \n",
    "\n",
    "$$ W_q = \\frac{L_q}{\\lambda_e}= \\frac{4.02}{5(1-0.01927)} = 0.816 $$ "
   ]
  },
  {
   "cell_type": "markdown",
   "metadata": {},
   "source": [
    "es posible reescribir el lado derecho de (8) como:\n",
    " $$  \\pi_0U  \\sum_{n=0}^K n U^{n-1} = \\pi_0U \\frac{d}{dU}  (\\sum_{n=0}^K  U^{n}) \\;\\;\\;\\;\\;\\;\\;\\;\\;\\;\\;\\; \\textit{(10)}$$"
   ]
  },
  {
   "cell_type": "markdown",
   "metadata": {},
   "source": [
    " $$  \\pi_0U \\frac{d}{dU}  (\\sum_{n=0}^K  U^{n}) =  \\pi_0U\\frac{d}{dU}(\\displaystyle\\frac{1-U^{k+1}}{1-u}) \\;\\;\\;\\;\\;\\;\\;\\;\\;\\;\\;\\; \\textit{(11)}$$"
   ]
  },
  {
   "cell_type": "markdown",
   "metadata": {},
   "source": [
    "y derivando obtenemos:  \n",
    "$$  \\pi_0U\\frac{d}{dU}(\\displaystyle\\frac{1-U^{k+1}}{1-u}) =  \\frac{U[1-(K+1)U^K + KU^{K+1}]}{(1-U)(1-U^{K+1})} \\;\\;\\;\\;\\;\\;\\;\\;\\;\\;\\;\\; \\textit{(12)}$$"
   ]
  },
  {
   "cell_type": "markdown",
   "metadata": {},
   "source": [
    "finalmente reemplazamos de vuelta la equivalencia (9) para obtener:  \n",
    "$$ = \\frac{\\lambda[1-(K+1)(\\frac{\\lambda}{\\mu})^K + K(\\frac{\\lambda}{\\mu})^{K+1}]}{(\\mu-\\lambda)[1-(\\frac{\\lambda}{\\mu})^{K+1}]} \\;\\;\\;\\;\\;\\;\\;\\;\\;\\;\\;\\; \\textit{(13)} $$ "
   ]
  }
 ],
 "metadata": {
  "kernelspec": {
   "display_name": "R",
   "language": "R",
   "name": "ir"
  },
  "language_info": {
   "codemirror_mode": "r",
   "file_extension": ".r",
   "mimetype": "text/x-r-source",
   "name": "R",
   "pygments_lexer": "r",
   "version": "3.6.1"
  }
 },
 "nbformat": 4,
 "nbformat_minor": 4
}
